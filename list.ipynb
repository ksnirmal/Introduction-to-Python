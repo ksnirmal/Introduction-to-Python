{
  "nbformat": 4,
  "nbformat_minor": 0,
  "metadata": {
    "colab": {
      "name": "list.ipynb",
      "provenance": [],
      "collapsed_sections": []
    },
    "kernelspec": {
      "name": "python3",
      "display_name": "Python 3"
    },
    "language_info": {
      "name": "python"
    }
  },
  "cells": [
    {
      "cell_type": "code",
      "execution_count": 1,
      "metadata": {
        "colab": {
          "base_uri": "https://localhost:8080/"
        },
        "id": "HrdCyGa3D5_N",
        "outputId": "cc806463-c7d0-478f-ce0e-56d8c2500980"
      },
      "outputs": [
        {
          "output_type": "stream",
          "name": "stdout",
          "text": [
            "Nirmal\n",
            "Nirmal\n",
            "Nirmal\n",
            "Nirmal\n",
            "Nirmal\n",
            "Nirmal\n",
            "Nirmal\n",
            "Nirmal\n",
            "Nirmal\n",
            "Nirmal\n",
            "Nirmal\n",
            "Nirmal\n",
            "Nirmal\n",
            "Nirmal\n",
            "Nirmal\n",
            "Nirmal\n",
            "Nirmal\n",
            "Nirmal\n",
            "Nirmal\n",
            "Nirmal\n"
          ]
        }
      ],
      "source": [
        "x=0\n",
        "while x<20:\n",
        "  print(\"Nirmal\")\n",
        "  x=x+1"
      ]
    },
    {
      "cell_type": "code",
      "source": [
        "x=0\n",
        "result=0\n",
        "while x<10:\n",
        "  result=result+x\n",
        "  x=x+1\n",
        "  print(result)\n",
        "  \n",
        "  \n",
        "\n",
        "  "
      ],
      "metadata": {
        "id": "Iq5yd_ggF2I2",
        "colab": {
          "base_uri": "https://localhost:8080/"
        },
        "outputId": "7ff07d2a-9935-49fa-8d11-139448dc0e6e"
      },
      "execution_count": 2,
      "outputs": [
        {
          "output_type": "stream",
          "name": "stdout",
          "text": [
            "0\n",
            "1\n",
            "3\n",
            "6\n",
            "10\n",
            "15\n",
            "21\n",
            "28\n",
            "36\n",
            "45\n"
          ]
        }
      ]
    },
    {
      "cell_type": "code",
      "source": [
        "x=0\n",
        "result=0\n",
        "while x<10:\n",
        "  result=x*x\n",
        "  x=x+1\n",
        "  print(result)"
      ],
      "metadata": {
        "id": "BeKb9f3bJssr",
        "colab": {
          "base_uri": "https://localhost:8080/"
        },
        "outputId": "2b2803c9-c16e-4421-bbcb-0597743eaf01"
      },
      "execution_count": 3,
      "outputs": [
        {
          "output_type": "stream",
          "name": "stdout",
          "text": [
            "0\n",
            "1\n",
            "4\n",
            "9\n",
            "16\n",
            "25\n",
            "36\n",
            "49\n",
            "64\n",
            "81\n"
          ]
        }
      ]
    },
    {
      "cell_type": "code",
      "source": [
        "x=[10,20,30]\n",
        "print(x)"
      ],
      "metadata": {
        "colab": {
          "base_uri": "https://localhost:8080/"
        },
        "id": "vJJNMxZTO3wZ",
        "outputId": "1e156e24-3fad-4330-be4f-ba651a8795af"
      },
      "execution_count": 4,
      "outputs": [
        {
          "output_type": "stream",
          "name": "stdout",
          "text": [
            "[10, 20, 30]\n"
          ]
        }
      ]
    },
    {
      "cell_type": "code",
      "source": [
        "x[2]"
      ],
      "metadata": {
        "colab": {
          "base_uri": "https://localhost:8080/"
        },
        "id": "1wmNHlMmRgMu",
        "outputId": "16fc86c8-fdd4-42bc-b36f-bed81b96fdd9"
      },
      "execution_count": 5,
      "outputs": [
        {
          "output_type": "execute_result",
          "data": {
            "text/plain": [
              "30"
            ]
          },
          "metadata": {},
          "execution_count": 5
        }
      ]
    },
    {
      "cell_type": "code",
      "source": [
        "x[3]"
      ],
      "metadata": {
        "colab": {
          "base_uri": "https://localhost:8080/",
          "height": 165
        },
        "id": "l7A69OjJTKzG",
        "outputId": "ae0a9191-20f6-44b6-d241-cff0d944425e"
      },
      "execution_count": 6,
      "outputs": [
        {
          "output_type": "error",
          "ename": "IndexError",
          "evalue": "ignored",
          "traceback": [
            "\u001b[0;31m---------------------------------------------------------------------------\u001b[0m",
            "\u001b[0;31mIndexError\u001b[0m                                Traceback (most recent call last)",
            "\u001b[0;32m<ipython-input-6-dc2cd44e899d>\u001b[0m in \u001b[0;36m<module>\u001b[0;34m()\u001b[0m\n\u001b[0;32m----> 1\u001b[0;31m \u001b[0mx\u001b[0m\u001b[0;34m[\u001b[0m\u001b[0;36m3\u001b[0m\u001b[0;34m]\u001b[0m\u001b[0;34m\u001b[0m\u001b[0;34m\u001b[0m\u001b[0m\n\u001b[0m",
            "\u001b[0;31mIndexError\u001b[0m: list index out of range"
          ]
        }
      ]
    },
    {
      "cell_type": "code",
      "source": [
        "x[-1]\n"
      ],
      "metadata": {
        "colab": {
          "base_uri": "https://localhost:8080/"
        },
        "id": "D7B3TGcKTTc8",
        "outputId": "afb7e964-48c2-48aa-ed81-68cafa03e782"
      },
      "execution_count": 7,
      "outputs": [
        {
          "output_type": "execute_result",
          "data": {
            "text/plain": [
              "30"
            ]
          },
          "metadata": {},
          "execution_count": 7
        }
      ]
    },
    {
      "cell_type": "code",
      "source": [
        ""
      ],
      "metadata": {
        "id": "qjye_Yr6TVxM"
      },
      "execution_count": null,
      "outputs": []
    }
  ]
}